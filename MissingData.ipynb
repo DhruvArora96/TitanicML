{
  "nbformat": 4,
  "nbformat_minor": 0,
  "metadata": {
    "colab": {
      "name": "Untitled",
      "provenance": [],
      "collapsed_sections": [],
      "include_colab_link": true
    },
    "kernelspec": {
      "name": "python3",
      "display_name": "Python 3"
    }
  },
  "cells": [
    {
      "cell_type": "markdown",
      "metadata": {
        "id": "view-in-github",
        "colab_type": "text"
      },
      "source": [
        "<a href=\"https://colab.research.google.com/github/DhruvArora96/TitanicML/blob/master/MissingData.ipynb\" target=\"_parent\"><img src=\"https://colab.research.google.com/assets/colab-badge.svg\" alt=\"Open In Colab\"/></a>"
      ]
    },
    {
      "cell_type": "code",
      "metadata": {
        "id": "7ESelQZ56ss_",
        "colab_type": "code",
        "colab": {}
      },
      "source": [
        "import pandas as pd\n",
        "\n",
        "url = \"https://raw.githubusercontent.com/DhruvArora96/TitanicML/master/test.csv\"\n",
        "test_df = pd.read_csv(url)\n",
        "url  =\"https://raw.githubusercontent.com/DhruvArora96/TitanicML/master/train.csv\"\n",
        "train_df = pd.read_csv(url)"
      ],
      "execution_count": 0,
      "outputs": []
    },
    {
      "cell_type": "code",
      "metadata": {
        "id": "K5nCM7-H6vs-",
        "colab_type": "code",
        "colab": {}
      },
      "source": [
        "train_df=train_df.replace({\"male\":0,\"female\":1})"
      ],
      "execution_count": 0,
      "outputs": []
    },
    {
      "cell_type": "code",
      "metadata": {
        "id": "AmnMmCECEp5C",
        "colab_type": "code",
        "colab": {}
      },
      "source": [
        "train_df=train_df.replace({\"S\":0,\"C\":1,\"Q\":2})"
      ],
      "execution_count": 0,
      "outputs": []
    },
    {
      "cell_type": "code",
      "metadata": {
        "id": "xsBgobCALfIa",
        "colab_type": "code",
        "colab": {}
      },
      "source": [
        "names=train_df[\"Name\"]"
      ],
      "execution_count": 0,
      "outputs": []
    },
    {
      "cell_type": "code",
      "metadata": {
        "id": "70eQHu3YOUV1",
        "colab_type": "code",
        "colab": {}
      },
      "source": [
        "out=[i.split(',')[1].split('.')[0] for i in names]"
      ],
      "execution_count": 0,
      "outputs": []
    },
    {
      "cell_type": "code",
      "metadata": {
        "id": "2uqycXT3Osla",
        "colab_type": "code",
        "outputId": "8942befb-16a6-4fb3-9fb7-362d02eb678c",
        "colab": {
          "base_uri": "https://localhost:8080/",
          "height": 312
        }
      },
      "source": [
        "set(out)"
      ],
      "execution_count": 0,
      "outputs": [
        {
          "output_type": "execute_result",
          "data": {
            "text/plain": [
              "{' Capt',\n",
              " ' Col',\n",
              " ' Don',\n",
              " ' Dr',\n",
              " ' Jonkheer',\n",
              " ' Lady',\n",
              " ' Major',\n",
              " ' Master',\n",
              " ' Miss',\n",
              " ' Mlle',\n",
              " ' Mme',\n",
              " ' Mr',\n",
              " ' Mrs',\n",
              " ' Ms',\n",
              " ' Rev',\n",
              " ' Sir',\n",
              " ' the Countess'}"
            ]
          },
          "metadata": {
            "tags": []
          },
          "execution_count": 97
        }
      ]
    },
    {
      "cell_type": "code",
      "metadata": {
        "id": "nttrGES9PBnY",
        "colab_type": "code",
        "colab": {}
      },
      "source": [
        ""
      ],
      "execution_count": 0,
      "outputs": []
    }
  ]
}